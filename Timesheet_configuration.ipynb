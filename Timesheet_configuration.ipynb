{
 "cells": [
  {
   "cell_type": "code",
   "execution_count": 1,
   "metadata": {},
   "outputs": [],
   "source": [
    "import pandas as pd\n",
    "import re"
   ]
  },
  {
   "cell_type": "code",
   "execution_count": 7,
   "metadata": {},
   "outputs": [],
   "source": [
    "file = r'Q:\\Payroll\\Payroll 2\\client\\current pay sheet.xlsx'\n",
    "# make this say current time sheet \n",
    "x1 = pd.ExcelFile(file)\n",
    "sheet_names = x1.sheet_names\n",
    "ssn_mapping_df = pd.read_excel('EmployeeListExport.xlsx')\n",
    "ssn_mapping_df = ssn_mapping_df[['Employee ID', 'SSN','Pay Group']]\n",
    "ssn_mapping_df.rename(columns={'Pay Group': 'PayGroup'}, inplace=True)\n",
    "ssn_mapping_df['ssn_last_four'] = ssn_mapping_df.SSN.str[-4:]\n",
    "ssn_mapping_df.to_csv('ssn.csv')\n",
    "df_arr = []\n",
    "\n",
    "for sheet_name in sheet_names:\n",
    "    if re.match(r'^CO\\d{3}$',sheet_name):\n",
    "        df = pd.read_excel(file,sheet_name,header=3)\n",
    "        df = df[0:-1]\n",
    "        df = df[['Unnamed: 1', 'Regular Hours Worked',\n",
    "       'Vacation Hours', 'Overtime Hours Worked', 'Pay Period Hourly rate','Overtime Hourly Rate','Retail Bonus Pay',\n",
    "       'Bonus', 'Service Bonus Pay', 'Tips ']]\n",
    "        df['Retail Bonus Pay'].fillna(0, inplace=True)\n",
    "        df['Service Bonus Pay'].fillna(0, inplace=True)\n",
    "        df['Bonus'].fillna(0, inplace=True)\n",
    "        df['E_COMM_DOLLARS'] = df['Retail Bonus Pay'] + df['Service Bonus Pay']\n",
    "        df.columns = ['social_last_four','E_REG_Hours','E_PTO_HOURS','E_OT_HOURS','Rate','OT_Rate' ,'#Retail Bonus','E_BONUS_DOLLARS','#Service bonus pay','E_TIPSCC_DOLLARS','E_COMM_Dollars']\n",
    "        df['E_REG_ORRate'] = df['Rate']\n",
    "        df['E_PTO_ORRate'] = df['Rate']\n",
    "        df['E_SICK-_ORRate'] = df['Rate']\n",
    "        df['E_OT_ORRate'] = df['OT_Rate']\n",
    "        df.fillna('0000',inplace=True)\n",
    "        df['social_last_four'] = df['social_last_four'].astype(int)\n",
    "        df['social_last_four'] = df['social_last_four'].astype(str)\n",
    "        df['social_last_four'] = df['social_last_four'].apply(lambda x:'0'+x if len(x)==3 else x)\n",
    "        df = df.merge(ssn_mapping_df, left_on='social_last_four', right_on='ssn_last_four', how='left')\n",
    "        df['Employee ID'].fillna('000',inplace=True)\n",
    "        df['key'] = df['Employee ID'].astype(int).astype(str)\n",
    "        df_arr.append(df)\n",
    "        df.to_csv(f'{sheet_name}_time_sheet_import.csv')\n",
    "        \n",
    "    \n",
    "full_df = pd.concat(df_arr)    \n",
    "full_df.to_csv(f'full_time_sheet_import.csv')\n",
    "# TODO: Plug into specific folder all files\n",
    "# TODO: change file locations to shared folder or to Q folder\n",
    "# aTODO: Adjust paygroup to be the paygroup assigned in the sheet - sheet named CO103 - need the paygroup that co103 belongs too \n",
    "# TODO: make sure 0 is in from of numbers in last four of social \n"
   ]
  },
  {
   "cell_type": "code",
   "execution_count": null,
   "metadata": {},
   "outputs": [],
   "source": []
  }
 ],
 "metadata": {
  "kernelspec": {
   "display_name": "Python 3",
   "language": "python",
   "name": "python3"
  },
  "language_info": {
   "codemirror_mode": {
    "name": "ipython",
    "version": 3
   },
   "file_extension": ".py",
   "mimetype": "text/x-python",
   "name": "python",
   "nbconvert_exporter": "python",
   "pygments_lexer": "ipython3",
   "version": "3.7.6"
  }
 },
 "nbformat": 4,
 "nbformat_minor": 4
}